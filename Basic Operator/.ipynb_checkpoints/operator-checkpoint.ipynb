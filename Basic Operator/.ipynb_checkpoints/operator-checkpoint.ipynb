{
 "cells": [
  {
   "cell_type": "markdown",
   "id": "804294cd",
   "metadata": {},
   "source": [
    "#Operator\n"
   ]
  },
  {
   "cell_type": "code",
   "execution_count": 1,
   "id": "65acaf84",
   "metadata": {},
   "outputs": [
    {
     "name": "stdout",
     "output_type": "stream",
     "text": [
      "hello\n"
     ]
    }
   ],
   "source": [
    "print('hello')"
   ]
  },
  {
   "cell_type": "markdown",
   "id": "7fabfc83",
   "metadata": {},
   "source": [
    "Using Operators with Strings\n"
   ]
  },
  {
   "cell_type": "code",
   "execution_count": 2,
   "id": "1d5c57c9",
   "metadata": {},
   "outputs": [
    {
     "name": "stdout",
     "output_type": "stream",
     "text": [
      "hello world\n"
     ]
    }
   ],
   "source": [
    "hello=\"hello\"+\" \"+\"world\"\n",
    "print(hello)"
   ]
  },
  {
   "cell_type": "markdown",
   "id": "e819e09a",
   "metadata": {},
   "source": [
    "Python also supports multiplying strings to form a string with a repeating sequence:"
   ]
  },
  {
   "cell_type": "code",
   "execution_count": 3,
   "id": "76d9cfb1",
   "metadata": {},
   "outputs": [
    {
     "name": "stdout",
     "output_type": "stream",
     "text": [
      "hellohellohellohellohellohellohellohellohellohello\n"
     ]
    }
   ],
   "source": [
    "lotsofhellos = \"hello\" * 10\n",
    "print(lotsofhellos)"
   ]
  },
  {
   "cell_type": "markdown",
   "id": "6e23c3cc",
   "metadata": {},
   "source": [
    "Using Operators with Lists\n",
    "Lists can be joined with the addition operators:"
   ]
  },
  {
   "cell_type": "code",
   "execution_count": 4,
   "id": "5303a535",
   "metadata": {},
   "outputs": [
    {
     "name": "stdout",
     "output_type": "stream",
     "text": [
      "[2, 4, 6, 1, 3, 5]\n"
     ]
    }
   ],
   "source": [
    "even_number=[2,4,6]\n",
    "odd_number=[1,3,5]\n",
    "all_number=even_number+odd_number\n",
    "print(all_number)"
   ]
  },
  {
   "cell_type": "markdown",
   "id": "cb2a38ac",
   "metadata": {},
   "source": [
    "Just as in strings, Python supports forming new lists with a repeating sequence using the multiplication operator:"
   ]
  },
  {
   "cell_type": "code",
   "execution_count": 5,
   "id": "881170d5",
   "metadata": {},
   "outputs": [
    {
     "name": "stdout",
     "output_type": "stream",
     "text": [
      "[1, 2, 3, 1, 2, 3, 1, 2, 3]\n"
     ]
    }
   ],
   "source": [
    "print([1,2,3]*3)"
   ]
  },
  {
   "cell_type": "markdown",
   "id": "b32f1fcf",
   "metadata": {},
   "source": [
    "Exercise:\n",
    " The target of this exercise is to create two lists called x_list and y_list,\n",
    " which contain 10 instances of the variables x and y,\n",
    " respectively. You are also required to create a list called big_list, which contains the variables x and y,\n",
    " 10 times each, by concatenating the two lists you have created"
   ]
  },
  {
   "cell_type": "code",
   "execution_count": 6,
   "id": "6b2dfcc0",
   "metadata": {},
   "outputs": [
    {
     "name": "stdout",
     "output_type": "stream",
     "text": [
      "[1, 1, 1, 1, 1, 1, 1, 1, 1, 1, 2, 2, 2, 2, 2, 2, 2, 2, 2, 2]\n"
     ]
    }
   ],
   "source": [
    "x_list=[1]\n",
    "y_list=[2]\n",
    "big_list=x_list*10+y_list*10\n",
    "print(big_list.count())"
   ]
  }
 ],
 "metadata": {
  "kernelspec": {
   "display_name": "Python 3",
   "language": "python",
   "name": "python3"
  },
  "language_info": {
   "codemirror_mode": {
    "name": "ipython",
    "version": 3
   },
   "file_extension": ".py",
   "mimetype": "text/x-python",
   "name": "python",
   "nbconvert_exporter": "python",
   "pygments_lexer": "ipython3",
   "version": "3.9.1"
  }
 },
 "nbformat": 4,
 "nbformat_minor": 5
}
