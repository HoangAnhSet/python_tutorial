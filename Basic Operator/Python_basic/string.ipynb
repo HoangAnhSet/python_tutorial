{
 "cells": [
  {
   "cell_type": "code",
   "execution_count": 1,
   "id": "e23bc7df",
   "metadata": {},
   "outputs": [
    {
     "output_type": "error",
     "ename": "SyntaxError",
     "evalue": "invalid syntax (<ipython-input-1-080ba04b3a72>, line 1)",
     "traceback": [
      "\u001b[1;36m  File \u001b[1;32m\"<ipython-input-1-080ba04b3a72>\"\u001b[1;36m, line \u001b[1;32m1\u001b[0m\n\u001b[1;33m    Python uses C-style string formatting to create new, formatted strings. The \"%\" operator is used to format a set of variables\u001b[0m\n\u001b[1;37m           ^\u001b[0m\n\u001b[1;31mSyntaxError\u001b[0m\u001b[1;31m:\u001b[0m invalid syntax\n"
     ]
    }
   ],
   "source": [
    "Python uses C-style string formatting to create new, formatted strings. The \"%\" operator is used to format a set of variables\n",
    "enclosed in a \"tuple\" (a fixed size list), together with a format string, \n",
    "which contains normal text together with \"argument specifiers\", \n",
    "special symbols like \"%s\" and \"%d\"."
   ]
  },
  {
   "cell_type": "code",
   "execution_count": 2,
   "id": "05c3728a",
   "metadata": {},
   "outputs": [
    {
     "output_type": "stream",
     "name": "stdout",
     "text": [
      "Hellojoin\n"
     ]
    }
   ],
   "source": [
    "name=\"join\"\n",
    "print(\"Hello%s\"%name)"
   ]
  },
  {
   "source": [
    "To use two or more argument specifiers, use a tuple (parentheses):"
   ],
   "cell_type": "markdown",
   "metadata": {}
  },
  {
   "cell_type": "code",
   "execution_count": 5,
   "metadata": {},
   "outputs": [
    {
     "output_type": "stream",
     "name": "stdout",
     "text": [
      "my name is join ,25 years old\n"
     ]
    }
   ],
   "source": [
    "name=\"join\"\n",
    "age=25\n",
    "print(\"my name is %s ,%d years old\"%(name,age))"
   ]
  },
  {
   "source": [
    "Any object which is not a string can be formatted using the %s operator as well. The string which returns from the \"repr\" method of that object is formatted as the string. For example:"
   ],
   "cell_type": "markdown",
   "metadata": {}
  },
  {
   "cell_type": "code",
   "execution_count": 9,
   "metadata": {},
   "outputs": [
    {
     "output_type": "stream",
     "name": "stdout",
     "text": [
      "A list [1, 2, 3]\n"
     ]
    }
   ],
   "source": [
    "my_list=[1,2,3]\n",
    "print(\"A list %s\"% my_list)"
   ]
  },
  {
   "source": [
    "Exercise:\n",
    "You will need to write a format string which prints out the data using the following syntax: Hello John Doe. Your current balance is $53.44."
   ],
   "cell_type": "markdown",
   "metadata": {}
  },
  {
   "cell_type": "code",
   "execution_count": 14,
   "metadata": {},
   "outputs": [
    {
     "output_type": "stream",
     "name": "stdout",
     "text": [
      "Hello John Doe. Your current balence is $53.44\n"
     ]
    }
   ],
   "source": [
    "data=(\"John\",\"Doe\", 53.44)\n",
    "format_string=\"Hello %s %s. Your current balence is $%s\"\n",
    "print(format_string % data)"
   ]
  }
 ],
 "metadata": {
  "kernelspec": {
   "name": "python391jvsc74a57bd0acc2e600df6cc579214e2ceacb80e0cb3558133be1c215a7a18453674aa06459",
   "display_name": "Python 3.9.1 64-bit"
  },
  "language_info": {
   "codemirror_mode": {
    "name": "ipython",
    "version": 3
   },
   "file_extension": ".py",
   "mimetype": "text/x-python",
   "name": "python",
   "nbconvert_exporter": "python",
   "pygments_lexer": "ipython3",
   "version": "3.9.1-final"
  },
  "metadata": {
   "interpreter": {
    "hash": "acc2e600df6cc579214e2ceacb80e0cb3558133be1c215a7a18453674aa06459"
   }
  }
 },
 "nbformat": 4,
 "nbformat_minor": 5
}