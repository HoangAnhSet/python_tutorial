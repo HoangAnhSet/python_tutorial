{
 "metadata": {
  "language_info": {
   "codemirror_mode": {
    "name": "ipython",
    "version": 3
   },
   "file_extension": ".py",
   "mimetype": "text/x-python",
   "name": "python",
   "nbconvert_exporter": "python",
   "pygments_lexer": "ipython3",
   "version": "3.9.1-final"
  },
  "orig_nbformat": 2,
  "kernelspec": {
   "name": "python391jvsc74a57bd0acc2e600df6cc579214e2ceacb80e0cb3558133be1c215a7a18453674aa06459",
   "display_name": "Python 3.9.1 64-bit"
  },
  "metadata": {
   "interpreter": {
    "hash": "acc2e600df6cc579214e2ceacb80e0cb3558133be1c215a7a18453674aa06459"
   }
  }
 },
 "nbformat": 4,
 "nbformat_minor": 2,
 "cells": [
  {
   "source": [
    "Basic String Operations\n",
    "Strings are bits of text. They can be defined as anything between quotes:"
   ],
   "cell_type": "markdown",
   "metadata": {}
  },
  {
   "cell_type": "code",
   "execution_count": 2,
   "metadata": {},
   "outputs": [
    {
     "output_type": "stream",
     "name": "stdout",
     "text": [
      "hello worldhello world 2\n"
     ]
    }
   ],
   "source": [
    "a_string=\"hello world\"\n",
    "b_string ='hello world 2'\n",
    "print(a_string+ b_string)"
   ]
  },
  {
   "source": [
    "As you can see, the first thing you learned was printing a simple sentence.\n",
    "This sentence was stored by Python as a string.\n",
    "However, instead of immediately printing strings out, we will explore the various things you can do to them.\n",
    "You can also use single quotes to assign a string\n",
    "However, you will face problems if the value to be assigned itself contains single quotes. For example to assign the string in these bracket(single quotes are ' ') you need to use double quotes only like this"
   ],
   "cell_type": "markdown",
   "metadata": {}
  },
  {
   "cell_type": "code",
   "execution_count": 7,
   "metadata": {},
   "outputs": [
    {
     "output_type": "stream",
     "name": "stdout",
     "text": [
      "single quotes are ''\n12\n2\n"
     ]
    }
   ],
   "source": [
    "as_string=\"hello world!\"\n",
    "print(\"single quotes are ''\")\n",
    "print(len(as_string))\n",
    "print(as_string.count(\"o\"))"
   ]
  },
  {
   "source": [
    "That prints out 12, because \"Hello world!\" is 12 characters long, including punctuation(dấu chấm than) and spaces."
   ],
   "cell_type": "markdown",
   "metadata": {}
  },
  {
   "source": [
    "There is no function like strrev in C to reverse a string. But with the above mentioned type of slice syntax you can easily reverse a string like this"
   ],
   "cell_type": "markdown",
   "metadata": {}
  },
  {
   "cell_type": "code",
   "execution_count": 14,
   "metadata": {},
   "outputs": [
    {
     "output_type": "stream",
     "name": "stdout",
     "text": [
      "dlrow olleh\n"
     ]
    }
   ],
   "source": [
    "as_string=\"hello world!\"\n",
    "print(a_string[::-1])"
   ]
  },
  {
   "source": [
    "Uper and Lower Viết Hoa kí tự đầu tiên\n"
   ],
   "cell_type": "code",
   "metadata": {},
   "execution_count": null,
   "outputs": []
  },
  {
   "cell_type": "code",
   "execution_count": 19,
   "metadata": {},
   "outputs": [
    {
     "output_type": "stream",
     "name": "stdout",
     "text": [
      "Hello world!\n"
     ]
    }
   ],
   "source": [
    "as_string=\"hello world!\"\n",
    "print(as_string[0].upper()+as_string[1:])"
   ]
  },
  {
   "source": [
    "This is used to determine whether the string starts with something or ends with something, respectively. The first one will print True, as the string starts with \"Hello\". The second one will print False, as the string certainly does not end with \"asdfasdfasdf\".\n"
   ],
   "cell_type": "markdown",
   "metadata": {}
  },
  {
   "cell_type": "code",
   "execution_count": null,
   "metadata": {},
   "outputs": [],
   "source": [
    "Exercise:\n",
    "Try to fix the code to print out the correct information by changing the string\n"
   ]
  },
  {
   "cell_type": "code",
   "execution_count": 22,
   "metadata": {},
   "outputs": [
    {
     "output_type": "stream",
     "name": "stdout",
     "text": [
      "Length of s = 38\nThe first occurrence of the letter a = 13\na occurs 1 times\nThe first five characters are 'Hey t'\nThe next five characters are 'here!'\nThe thirteenth character is 'h'\nThe characters with odd index are 'e hr!wa hudti tigb?'\nThe last five characters are 'g be?'\nString in uppercase: HEY THERE! WHAT SHOULD THIS STRING BE?\nString in lowercase: hey there! what should this string be?\nSplit the words of the string: ['Hey', 'there!', 'what', 'should', 'this', 'string', 'be?']\n"
     ]
    }
   ],
   "source": [
    "s = \"Hey there! what should this string be?\"\n",
    "# Length should be 20\n",
    "print(\"Length of s = %d\" % len(s))\n",
    "\n",
    "# First occurrence of \"a\" should be at index 8\n",
    "print(\"The first occurrence of the letter a = %d\" % s.index(\"a\"))\n",
    "\n",
    "# Number of a's should be 2\n",
    "print(\"a occurs %d times\" % s.count(\"a\"))\n",
    "\n",
    "# Slicing the string into bits\n",
    "print(\"The first five characters are '%s'\" % s[:5]) # Start to 5\n",
    "print(\"The next five characters are '%s'\" % s[5:10]) # 5 to 10\n",
    "print(\"The thirteenth character is '%s'\" % s[12]) # Just number 12\n",
    "print(\"The characters with odd index are '%s'\" %s[1::2]) #(0-based indexing)\n",
    "print(\"The last five characters are '%s'\" % s[-5:]) # 5th-from-last to end\n",
    "\n",
    "# Convert everything to uppercase\n",
    "print(\"String in uppercase: %s\" % s.upper())\n",
    "\n",
    "# Convert everything to lowercase\n",
    "print(\"String in lowercase: %s\" % s.lower())\n",
    "\n",
    "# Check how a string starts\n",
    "if s.startswith(\"Str\"):\n",
    "    print(\"String starts with 'Str'. Good!\")\n",
    "\n",
    "# Check how a string ends\n",
    "if s.endswith(\"ome!\"):\n",
    "    print(\"String ends with 'ome!'. Good!\")\n",
    "\n",
    "# Split the string into three separate strings,\n",
    "# each containing only a word\n",
    "print(\"Split the words of the string: %s\" % s.split(\" \"))"
   ]
  },
  {
   "cell_type": "code",
   "execution_count": null,
   "metadata": {},
   "outputs": [],
   "source": []
  }
 ]
}